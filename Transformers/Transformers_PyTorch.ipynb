{
 "cells": [
  {
   "cell_type": "code",
   "execution_count": 1,
   "metadata": {},
   "outputs": [],
   "source": [
    "import torch\n",
    "import torch.nn as nn"
   ]
  },
  {
   "cell_type": "code",
   "execution_count": 8,
   "metadata": {},
   "outputs": [
    {
     "name": "stdout",
     "output_type": "stream",
     "text": [
      "cuda\n"
     ]
    }
   ],
   "source": [
    "if torch.cuda.is_available():\n",
    "    device='cuda'\n",
    "else:\n",
    "    device='cpu'\n",
    "print(device)\n",
    "#thanks to aladdin persson"
   ]
  },
  {
   "cell_type": "markdown",
   "metadata": {},
   "source": [
    "Self Attention"
   ]
  },
  {
   "cell_type": "code",
   "execution_count": 37,
   "metadata": {},
   "outputs": [],
   "source": [
    "class SelfAttention(nn.Module):\n",
    "    def __init__(self,embed_size,num_heads):#num heads is number of parts in which embedding is splitted\n",
    "        super(SelfAttention,self).__init__()\n",
    "        self.embed_size=embed_size\n",
    "        self.num_heads=num_heads\n",
    "        self.head_dimension=embed_size//num_heads\n",
    "        \n",
    "        assert (self.head_dimension*num_heads==embed_size),\"Embed size needs to be divisible by number of heads\"\n",
    "        \n",
    "        self.values=nn.Linear(self.head_dimension,self.head_dimension,bias=False)\n",
    "        \n",
    "        self.keys=nn.Linear(self.head_dimension,self.head_dimension,bias=False)\n",
    "        \n",
    "        self.queries=nn.Linear(self.head_dimension,self.head_dimension,bias=False)\n",
    "        \n",
    "        self.fc_out=nn.Linear(num_heads*self.head_dimension,embed_size)\n",
    "        \n",
    "    def forward(self,values,keys,queries,mask):\n",
    "        \n",
    "        num_examples_N=queries.shape[0]\n",
    "        \n",
    "        value_length,key_length,query_length=values.shape[1],keys.shape[1],queries.shape[1]\n",
    "        \n",
    "        #split embedding into self.num_heads pieces\n",
    "        \n",
    "        values=values.reshape(num_examples_N,value_length,self.num_heads,self.head_dimension)\n",
    "        \n",
    "        keys=keys.reshape(num_examples_N,key_length,self.num_heads,self.head_dimension)\n",
    "        \n",
    "        queries=queries.reshape(num_examples_N,query_length,self.num_heads,self.head_dimension)\n",
    "        #op from queries * keys\n",
    "        energy=torch.einsum(\"nqhd,nkhd->nhqk\",[queries,keys])\n",
    "        \n",
    "        #query shape = N,query_len,head dim, same for keys \n",
    "        #keys shape=N,heads,query len,key len\n",
    "        #energy shape : N,heads,querylen,keylen\n",
    "        #for each word in target how much attention will be given to each word in input\n",
    "        #torch.bmm is batch matrix multiply\n",
    "        \n",
    "        if mask is not None:\n",
    "            energy=energy.masked_fill(mask==0,float(\"-1e28\"))\n",
    "        \n",
    "        attention=torch.softmax(energy/(self.embed_size**(0.5)),dim=3)\n",
    "        \n",
    "        out=torch.einsum(\"nhql,nlhd->nqhd\",[attention,values]).reshape(\n",
    "            num_examples_N,query_length,self.num_heads*self.head_dimension)\n",
    "        \n",
    "        #attention shape=(n,heads,,querylen,keylen)\n",
    "        #values shape=(n,value_len,heads,head_dim)\n",
    "        #want n,querylen,heads,headdim\n",
    "        \n",
    "        out=self.fc_out(out)\n",
    "        return out"
   ]
  },
  {
   "cell_type": "markdown",
   "metadata": {},
   "source": [
    "Transformer Block"
   ]
  },
  {
   "cell_type": "code",
   "execution_count": 17,
   "metadata": {},
   "outputs": [],
   "source": [
    "class TransformerBlock(nn.Module):\n",
    "    def __init__(self,embed_size,heads,dropout,forward_expansion):\n",
    "        super(TransformerBlock,self).__init__()\n",
    "        \n",
    "        self.attention=SelfAttention(embed_size,heads)\n",
    "        \n",
    "        self.norm1=nn.LayerNorm(embed_size)\n",
    "        self.norm2=nn.LayerNorm(embed_size)\n",
    "        \n",
    "        self.feed_forward=nn.Sequential(\n",
    "        nn.Linear(embed_size,forward_expansion*embed_size),\n",
    "            nn.ReLU(),\n",
    "            nn.Linear(forward_expansion*embed_size,embed_size)\n",
    "        )\n",
    "        \n",
    "        self.dropout=nn.Dropout(dropout)\n",
    "        \n",
    "    def forward(self,value,key,query,mask):\n",
    "        attention=self.attention(value,key,query,mask)\n",
    "        x=self.dropout(self.norm1(attention+query))\n",
    "        forward=self.feed_forward(x)\n",
    "        out=self.dropout(self.norm2(forward+x))\n",
    "        return out"
   ]
  },
  {
   "cell_type": "markdown",
   "metadata": {},
   "source": [
    "Encoder"
   ]
  },
  {
   "cell_type": "code",
   "execution_count": 16,
   "metadata": {},
   "outputs": [],
   "source": [
    "class Encoder(nn.Module):\n",
    "    def __init__(\n",
    "    self,\n",
    "    source_vocab_size,\n",
    "    embed_size,\n",
    "    num_layers,\n",
    "    num_heads,\n",
    "    device,\n",
    "    forward_expansion,\n",
    "    dropout,\n",
    "    max_length,):\n",
    "        super(Encoder,self).__init__()\n",
    "        \n",
    "        self.embed_size=embed_size\n",
    "        self.device=device\n",
    "        self.word_embedding=nn.Embedding(source_vocab_size,embed_size)\n",
    "        self.position_embedding=nn.Embedding(max_length,embed_size)\n",
    "        \n",
    "        self.layers=nn.ModuleList(\n",
    "        [\n",
    "            TransformerBlock(embed_size,\n",
    "                            num_heads,\n",
    "                            dropout=dropout,\n",
    "                            forward_expansion=forward_expansion,\n",
    "                            )\n",
    "        ])\n",
    "        \n",
    "        self.dropout=nn.Dropout(dropout)\n",
    "        \n",
    "    def forward(self,x,mask):\n",
    "            N,seq_length=x.shape\n",
    "            \n",
    "            positions=torch.arange(0,seq_length).expand(N,seq_length).to(self.device)\n",
    "            \n",
    "            out=self.dropout(self.word_embedding(x)+ self.position_embedding(positions))\n",
    "            \n",
    "            for layer in self.layers:\n",
    "                out=layer(out,out,out,mask)\n",
    "                \n",
    "            return out"
   ]
  },
  {
   "cell_type": "code",
   "execution_count": 34,
   "metadata": {},
   "outputs": [],
   "source": [
    "class DecoderBlock(nn.Module):\n",
    "    def __init__(self,embed_size,heads,forward_expansion,dropout,device):\n",
    "        super(DecoderBlock,self).__init__()\n",
    "        self.norm=nn.LayerNorm(embed_size)\n",
    "        self.attention = SelfAttention(embed_size,heads)\n",
    "        self.transformer_block=TransformerBlock(embed_size,heads,dropout,forward_expansion)\n",
    "        self.dropout=nn.Dropout(dropout)\n",
    "        \n",
    "    def forward(self,x,value,key,src_mask,target_mask):\n",
    "        attention=self.attention(x,x,x,target_mask)\n",
    "        query=self.dropout(self.norm(attention+x))\n",
    "        out=self.transformer_block(value,key,query,src_mask)\n",
    "        return out"
   ]
  },
  {
   "cell_type": "code",
   "execution_count": 26,
   "metadata": {},
   "outputs": [],
   "source": [
    "class Decoder(nn.Module):\n",
    "    def __init__(self,\n",
    "                target_vocab_size,\n",
    "                embed_size,\n",
    "                num_layers,\n",
    "                num_heads,\n",
    "                forward_expansion,\n",
    "                dropout,\n",
    "                device,\n",
    "                max_length,\n",
    "                ):\n",
    "        super(Decoder,self).__init__()\n",
    "        self.device=device\n",
    "        self.word_embedding=nn.Embedding(target_vocab_size,embed_size)\n",
    "        self.position_embedding=nn.Embedding(max_length,embed_size)\n",
    "        \n",
    "        self.layers=nn.ModuleList(\n",
    "        [DecoderBlock(embed_size,num_heads,forward_expansion,dropout,device)\n",
    "        for _ in range(num_layers)])\n",
    "        \n",
    "        self.fc_out=nn.Linear(embed_size,target_vocab_size)\n",
    "        self.dropout=nn.Dropout(dropout)\n",
    "        \n",
    "        \n",
    "    def forward(self,x,enc_out,source_mask,target_mask):\n",
    "        N,seq_length=x.shape\n",
    "        positions=torch.arange(0,seq_length).expand(N,seq_length).to(self.device)\n",
    "        x=self.dropout((self.word_embedding(x) + self.position_embedding(positions)))\n",
    "        \n",
    "        for layer in self.layers:\n",
    "            x=layer(x,enc_out,enc_out,source_mask,target_mask)\n",
    "            \n",
    "        out=self.fc_out(x)\n",
    "        \n",
    "        return out"
   ]
  },
  {
   "cell_type": "code",
   "execution_count": 32,
   "metadata": {},
   "outputs": [],
   "source": [
    "class Transformer(nn.Module):\n",
    "    def __init__(\n",
    "        self,\n",
    "        src_vocab_size,\n",
    "        trg_vocab_size,\n",
    "        src_pad_idx,\n",
    "        trg_pad_idx,\n",
    "        embed_size=512,\n",
    "        num_layers=6,\n",
    "        forward_expansion=4,\n",
    "        heads=8,\n",
    "        dropout=0,\n",
    "        device=\"cuda\",\n",
    "        max_length=100,\n",
    "    ):\n",
    "\n",
    "        super(Transformer, self).__init__()\n",
    "\n",
    "        self.encoder = Encoder(\n",
    "            src_vocab_size,\n",
    "            embed_size,\n",
    "            num_layers,\n",
    "            heads,\n",
    "            device,\n",
    "            forward_expansion,\n",
    "            dropout,\n",
    "            max_length,\n",
    "        )\n",
    "\n",
    "        self.decoder = Decoder(\n",
    "            trg_vocab_size,\n",
    "            embed_size,\n",
    "            num_layers,\n",
    "            heads,\n",
    "            forward_expansion,\n",
    "            dropout,\n",
    "            device,\n",
    "            max_length,\n",
    "        )\n",
    "\n",
    "        self.src_pad_idx = src_pad_idx\n",
    "        self.trg_pad_idx = trg_pad_idx\n",
    "        self.device = device\n",
    "\n",
    "    def make_src_mask(self, src):\n",
    "        src_mask = (src != self.src_pad_idx).unsqueeze(1).unsqueeze(2)\n",
    "        # (N, 1, 1, src_len)\n",
    "        return src_mask.to(self.device)\n",
    "\n",
    "    def make_trg_mask(self, trg):\n",
    "        N, trg_len = trg.shape\n",
    "        trg_mask = torch.tril(torch.ones((trg_len, trg_len))).expand(\n",
    "            N, 1, trg_len, trg_len\n",
    "        )\n",
    "\n",
    "        return trg_mask.to(self.device)\n",
    "\n",
    "    def forward(self, src, trg):\n",
    "        src_mask = self.make_src_mask(src)\n",
    "        trg_mask = self.make_trg_mask(trg)\n",
    "        enc_src = self.encoder(src, src_mask)\n",
    "        out = self.decoder(trg, enc_src, src_mask, trg_mask)\n",
    "        return out\n"
   ]
  },
  {
   "cell_type": "code",
   "execution_count": 38,
   "metadata": {},
   "outputs": [
    {
     "name": "stdout",
     "output_type": "stream",
     "text": [
      "torch.Size([2, 7, 10])\n"
     ]
    }
   ],
   "source": [
    "if __name__ == \"__main__\":\n",
    "    device = torch.device(\"cuda\" if torch.cuda.is_available() else \"cpu\")\n",
    "\n",
    "    x = torch.tensor([[1, 5, 6, 4, 3, 9, 5, 2, 0], [1, 8, 7, 3, 4, 5, 6, 7, 2]]).to(\n",
    "        device\n",
    "    )\n",
    "    trg = torch.tensor([[1, 7, 4, 3, 5, 9, 2, 0], [1, 5, 6, 2, 4, 7, 6, 2]]).to(device)\n",
    "\n",
    "    src_pad_idx = 0\n",
    "    trg_pad_idx = 0\n",
    "    src_vocab_size = 10\n",
    "    trg_vocab_size = 10\n",
    "    model = Transformer(src_vocab_size, trg_vocab_size, src_pad_idx, trg_pad_idx).to(\n",
    "        device\n",
    "    )\n",
    "    out = model(x, trg[:, :-1])\n",
    "    print(out.shape)"
   ]
  },
  {
   "cell_type": "code",
   "execution_count": null,
   "metadata": {},
   "outputs": [],
   "source": []
  },
  {
   "cell_type": "code",
   "execution_count": null,
   "metadata": {},
   "outputs": [],
   "source": []
  },
  {
   "cell_type": "code",
   "execution_count": null,
   "metadata": {},
   "outputs": [],
   "source": []
  },
  {
   "cell_type": "code",
   "execution_count": null,
   "metadata": {},
   "outputs": [],
   "source": []
  },
  {
   "cell_type": "code",
   "execution_count": null,
   "metadata": {},
   "outputs": [],
   "source": []
  },
  {
   "cell_type": "code",
   "execution_count": null,
   "metadata": {},
   "outputs": [],
   "source": []
  },
  {
   "cell_type": "code",
   "execution_count": null,
   "metadata": {},
   "outputs": [],
   "source": []
  },
  {
   "cell_type": "code",
   "execution_count": null,
   "metadata": {},
   "outputs": [],
   "source": []
  },
  {
   "cell_type": "code",
   "execution_count": null,
   "metadata": {},
   "outputs": [],
   "source": []
  },
  {
   "cell_type": "code",
   "execution_count": null,
   "metadata": {},
   "outputs": [],
   "source": []
  },
  {
   "cell_type": "code",
   "execution_count": null,
   "metadata": {},
   "outputs": [],
   "source": []
  },
  {
   "cell_type": "code",
   "execution_count": null,
   "metadata": {},
   "outputs": [],
   "source": []
  },
  {
   "cell_type": "code",
   "execution_count": null,
   "metadata": {},
   "outputs": [],
   "source": []
  },
  {
   "cell_type": "code",
   "execution_count": null,
   "metadata": {},
   "outputs": [],
   "source": []
  },
  {
   "cell_type": "code",
   "execution_count": null,
   "metadata": {},
   "outputs": [],
   "source": []
  },
  {
   "cell_type": "code",
   "execution_count": null,
   "metadata": {},
   "outputs": [],
   "source": []
  },
  {
   "cell_type": "code",
   "execution_count": null,
   "metadata": {},
   "outputs": [],
   "source": []
  },
  {
   "cell_type": "code",
   "execution_count": null,
   "metadata": {},
   "outputs": [],
   "source": []
  },
  {
   "cell_type": "code",
   "execution_count": null,
   "metadata": {},
   "outputs": [],
   "source": []
  },
  {
   "cell_type": "code",
   "execution_count": null,
   "metadata": {},
   "outputs": [],
   "source": []
  },
  {
   "cell_type": "code",
   "execution_count": null,
   "metadata": {},
   "outputs": [],
   "source": []
  },
  {
   "cell_type": "code",
   "execution_count": null,
   "metadata": {},
   "outputs": [],
   "source": []
  },
  {
   "cell_type": "code",
   "execution_count": null,
   "metadata": {},
   "outputs": [],
   "source": []
  },
  {
   "cell_type": "code",
   "execution_count": null,
   "metadata": {},
   "outputs": [],
   "source": []
  },
  {
   "cell_type": "code",
   "execution_count": null,
   "metadata": {},
   "outputs": [],
   "source": []
  },
  {
   "cell_type": "code",
   "execution_count": null,
   "metadata": {},
   "outputs": [],
   "source": []
  },
  {
   "cell_type": "code",
   "execution_count": null,
   "metadata": {},
   "outputs": [],
   "source": []
  },
  {
   "cell_type": "code",
   "execution_count": null,
   "metadata": {},
   "outputs": [],
   "source": []
  },
  {
   "cell_type": "code",
   "execution_count": null,
   "metadata": {},
   "outputs": [],
   "source": []
  },
  {
   "cell_type": "code",
   "execution_count": null,
   "metadata": {},
   "outputs": [],
   "source": []
  },
  {
   "cell_type": "code",
   "execution_count": null,
   "metadata": {},
   "outputs": [],
   "source": []
  },
  {
   "cell_type": "code",
   "execution_count": null,
   "metadata": {},
   "outputs": [],
   "source": []
  },
  {
   "cell_type": "code",
   "execution_count": null,
   "metadata": {},
   "outputs": [],
   "source": []
  },
  {
   "cell_type": "code",
   "execution_count": null,
   "metadata": {},
   "outputs": [],
   "source": []
  },
  {
   "cell_type": "code",
   "execution_count": null,
   "metadata": {},
   "outputs": [],
   "source": []
  },
  {
   "cell_type": "code",
   "execution_count": null,
   "metadata": {},
   "outputs": [],
   "source": []
  },
  {
   "cell_type": "code",
   "execution_count": null,
   "metadata": {},
   "outputs": [],
   "source": []
  },
  {
   "cell_type": "code",
   "execution_count": null,
   "metadata": {},
   "outputs": [],
   "source": []
  },
  {
   "cell_type": "code",
   "execution_count": null,
   "metadata": {},
   "outputs": [],
   "source": []
  },
  {
   "cell_type": "code",
   "execution_count": null,
   "metadata": {},
   "outputs": [],
   "source": []
  },
  {
   "cell_type": "code",
   "execution_count": null,
   "metadata": {},
   "outputs": [],
   "source": []
  },
  {
   "cell_type": "code",
   "execution_count": null,
   "metadata": {},
   "outputs": [],
   "source": []
  },
  {
   "cell_type": "code",
   "execution_count": null,
   "metadata": {},
   "outputs": [],
   "source": []
  },
  {
   "cell_type": "code",
   "execution_count": null,
   "metadata": {},
   "outputs": [],
   "source": []
  },
  {
   "cell_type": "code",
   "execution_count": null,
   "metadata": {},
   "outputs": [],
   "source": []
  },
  {
   "cell_type": "code",
   "execution_count": 1,
   "metadata": {},
   "outputs": [
    {
     "ename": "SyntaxError",
     "evalue": "EOL while scanning string literal (<ipython-input-1-99ebfa306ba0>, line 1)",
     "output_type": "error",
     "traceback": [
      "\u001b[1;36m  File \u001b[1;32m\"<ipython-input-1-99ebfa306ba0>\"\u001b[1;36m, line \u001b[1;32m1\u001b[0m\n\u001b[1;33m    st=\"here\u001b[0m\n\u001b[1;37m            ^\u001b[0m\n\u001b[1;31mSyntaxError\u001b[0m\u001b[1;31m:\u001b[0m EOL while scanning string literal\n"
     ]
    }
   ],
   "source": [
    "st=\"here\n",
    "here\n",
    "here\n",
    "here\n",
    "here\n",
    "here\n",
    "here\n",
    "here\n",
    "here\n",
    "here\n",
    "here\n",
    "here\n",
    "here\n",
    "here\n",
    "here\n",
    "here\n",
    "here\n",
    "here\n",
    "here\n",
    "here\n",
    "here\n",
    "here\n",
    "here\n",
    "here\n",
    "here\n",
    "here\n",
    "here\n",
    "here\n",
    "here\n",
    "here\n",
    "here\n",
    "here\n",
    "here\n",
    "here\n",
    "here\n",
    "here\n",
    "here\n",
    "here\n",
    "here\n",
    "here\n",
    "here\n",
    "here\n",
    "here\n",
    "here\n",
    "here\n",
    "here\n",
    "here\n",
    "here\n",
    "here\n",
    "here\n",
    "here\n",
    "here\n",
    "here\n",
    "here\n",
    "here\n",
    "here\n",
    "here\n",
    "here\n",
    "here\n",
    "here\n",
    "here\n",
    "here\n",
    "here\n",
    "here\n",
    "here\n",
    "here\n",
    "here\n",
    "here\n",
    "here\n",
    "here\n",
    "here\n",
    "here\""
   ]
  },
  {
   "cell_type": "code",
   "execution_count": null,
   "metadata": {},
   "outputs": [],
   "source": []
  },
  {
   "cell_type": "code",
   "execution_count": null,
   "metadata": {},
   "outputs": [],
   "source": []
  },
  {
   "cell_type": "code",
   "execution_count": null,
   "metadata": {},
   "outputs": [],
   "source": []
  },
  {
   "cell_type": "code",
   "execution_count": null,
   "metadata": {},
   "outputs": [],
   "source": []
  },
  {
   "cell_type": "code",
   "execution_count": null,
   "metadata": {},
   "outputs": [],
   "source": []
  },
  {
   "cell_type": "code",
   "execution_count": null,
   "metadata": {},
   "outputs": [],
   "source": []
  },
  {
   "cell_type": "code",
   "execution_count": null,
   "metadata": {},
   "outputs": [],
   "source": []
  }
 ],
 "metadata": {
  "kernelspec": {
   "display_name": "Python 3",
   "language": "python",
   "name": "python3"
  },
  "language_info": {
   "codemirror_mode": {
    "name": "ipython",
    "version": 3
   },
   "file_extension": ".py",
   "mimetype": "text/x-python",
   "name": "python",
   "nbconvert_exporter": "python",
   "pygments_lexer": "ipython3",
   "version": "3.7.7"
  }
 },
 "nbformat": 4,
 "nbformat_minor": 4
}
